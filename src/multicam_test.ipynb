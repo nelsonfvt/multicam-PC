{
 "cells": [
  {
   "cell_type": "code",
   "execution_count": 4,
   "id": "f81323b2",
   "metadata": {},
   "outputs": [],
   "source": [
    "import cv2\n",
    "import imutils\n",
    "#from basicmotiondetector import BasicMotionDetector\n",
    "from imutils.video import VideoStream\n",
    "from matplotlib import pyplot as plt"
   ]
  },
  {
   "cell_type": "code",
   "execution_count": 5,
   "id": "e8a95ff1",
   "metadata": {},
   "outputs": [
    {
     "name": "stdout",
     "output_type": "stream",
     "text": [
      "[INFO] starting cameras...\n"
     ]
    }
   ],
   "source": [
    "# initialize the video streams and allow them to warmup\n",
    "print(\"[INFO] starting cameras...\")\n",
    "cap1 = cv2.VideoCapture(0)\n",
    "if not cap1.isOpened():\n",
    "    print(\"No se puede abrir camara 0\")\n",
    "    exit()\n",
    "\n",
    "cap2 = cv2.VideoCapture(2)\n",
    "if not cap2.isOpened():\n",
    "    print(\"No se puede abrir camara 2\")\n",
    "    exit()\n",
    "\n",
    "#webcam1 = VideoStream(src=0).start()\n",
    "#webcam2 = VideoStream(src=2).start()\n",
    "orb = cv2.ORB_create()"
   ]
  },
  {
   "cell_type": "code",
   "execution_count": 6,
   "metadata": {},
   "outputs": [
    {
     "name": "stdout",
     "output_type": "stream",
     "text": [
      "[INFO] cleaning up...\n"
     ]
    }
   ],
   "source": [
    "while True:\n",
    "    ret1,frame1 = cap1.read()\n",
    "    ret2,frame2 = cap2.read()\n",
    "    if not ret1:\n",
    "        print(\"No se recibió frame en camara 0. Saliendo...\")\n",
    "        break\n",
    "    if not ret2:\n",
    "        print(\"No se recibió frame en camara 2. Saliendo...\")\n",
    "        break\n",
    "    #frame1 = webcam1.read()\n",
    "    #frame2 = webcam2.read()\n",
    "    frame1 = imutils.resize(frame1, width=400)\n",
    "    kp = orb.detect(frame1,None)\n",
    "    kp, des = orb.compute(frame1,kp)\n",
    "    frame1_2 = cv2.drawKeypoints(frame1,kp,None,color=(0,255,0),flags=0)\n",
    "    cv2.imshow('Webcam 1',frame1_2)\n",
    "\n",
    "    frame2 = imutils.resize(frame2, width=400)\n",
    "    kp = orb.detect(frame2,None)\n",
    "    kp, des = orb.compute(frame2,kp)\n",
    "    frame2_2 = cv2.drawKeypoints(frame2,kp,None,color=(0,0,255),flags=0)\n",
    "    cv2.imshow('Webcam 2',frame2_2)\n",
    "    # check to see if a key was pressed\n",
    "    # if the `q` key was pressed, break from the loop\n",
    "    if cv2.waitKey(1) & 0xFF == ord(\"q\"):\n",
    "        break\n",
    "# do a bit of cleanup\n",
    "print(\"[INFO] cleaning up...\")\n",
    "cap1.release()\n",
    "cap2.release()\n",
    "#webcam1.stop()\n",
    "#webcam2.stop()\n",
    "cv2.destroyAllWindows()"
   ]
  },
  {
   "cell_type": "code",
   "execution_count": null,
   "metadata": {},
   "outputs": [],
   "source": []
  }
 ],
 "metadata": {
  "kernelspec": {
   "display_name": "multicam_PC",
   "language": "python",
   "name": "python3"
  },
  "language_info": {
   "codemirror_mode": {
    "name": "ipython",
    "version": 3
   },
   "file_extension": ".py",
   "mimetype": "text/x-python",
   "name": "python",
   "nbconvert_exporter": "python",
   "pygments_lexer": "ipython3",
   "version": "3.8.10"
  },
  "vscode": {
   "interpreter": {
    "hash": "28f0f92cfb966bde16683f310c7f3285a350f60da4af8de8fc31b748888c064f"
   }
  }
 },
 "nbformat": 4,
 "nbformat_minor": 5
}
